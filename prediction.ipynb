{
 "cells": [
  {
   "cell_type": "code",
   "execution_count": 2,
   "metadata": {},
   "outputs": [],
   "source": [
    "# Step 1: Import Libraries and Load the Model\n",
    "import numpy as np\n",
    "import tensorflow as tf\n",
    "from tensorflow.keras.datasets import imdb\n",
    "from tensorflow.keras.preprocessing import sequence\n",
    "from tensorflow.keras.models import load_model"
   ]
  },
  {
   "cell_type": "code",
   "execution_count": 3,
   "metadata": {},
   "outputs": [],
   "source": [
    "\n",
    "# Load the IMDB dataset word index\n",
    "word_index = imdb.get_word_index()\n",
    "reverse_word_index = {value: key for key, value in word_index.items()}"
   ]
  },
  {
   "cell_type": "code",
   "execution_count": 4,
   "metadata": {},
   "outputs": [
    {
     "name": "stderr",
     "output_type": "stream",
     "text": [
      "2025-08-20 15:31:02.882974: E external/local_xla/xla/stream_executor/cuda/cuda_platform.cc:51] failed call to cuInit: INTERNAL: CUDA error: Failed call to cuInit: UNKNOWN ERROR (303)\n",
      "WARNING:absl:Compiled the loaded model, but the compiled metrics have yet to be built. `model.compile_metrics` will be empty until you train or evaluate the model.\n"
     ]
    },
    {
     "data": {
      "text/html": [
       "<pre style=\"white-space:pre;overflow-x:auto;line-height:normal;font-family:Menlo,'DejaVu Sans Mono',consolas,'Courier New',monospace\"><span style=\"font-weight: bold\">Model: \"sequential_1\"</span>\n",
       "</pre>\n"
      ],
      "text/plain": [
       "\u001b[1mModel: \"sequential_1\"\u001b[0m\n"
      ]
     },
     "metadata": {},
     "output_type": "display_data"
    },
    {
     "data": {
      "text/html": [
       "<pre style=\"white-space:pre;overflow-x:auto;line-height:normal;font-family:Menlo,'DejaVu Sans Mono',consolas,'Courier New',monospace\">┏━━━━━━━━━━━━━━━━━━━━━━━━━━━━━━━━━┳━━━━━━━━━━━━━━━━━━━━━━━━┳━━━━━━━━━━━━━━━┓\n",
       "┃<span style=\"font-weight: bold\"> Layer (type)                    </span>┃<span style=\"font-weight: bold\"> Output Shape           </span>┃<span style=\"font-weight: bold\">       Param # </span>┃\n",
       "┡━━━━━━━━━━━━━━━━━━━━━━━━━━━━━━━━━╇━━━━━━━━━━━━━━━━━━━━━━━━╇━━━━━━━━━━━━━━━┩\n",
       "│ embedding_1 (<span style=\"color: #0087ff; text-decoration-color: #0087ff\">Embedding</span>)         │ (<span style=\"color: #00af00; text-decoration-color: #00af00\">32</span>, <span style=\"color: #00af00; text-decoration-color: #00af00\">500</span>, <span style=\"color: #00af00; text-decoration-color: #00af00\">128</span>)         │     <span style=\"color: #00af00; text-decoration-color: #00af00\">1,280,000</span> │\n",
       "├─────────────────────────────────┼────────────────────────┼───────────────┤\n",
       "│ simple_rnn_1 (<span style=\"color: #0087ff; text-decoration-color: #0087ff\">SimpleRNN</span>)        │ (<span style=\"color: #00af00; text-decoration-color: #00af00\">32</span>, <span style=\"color: #00af00; text-decoration-color: #00af00\">128</span>)              │        <span style=\"color: #00af00; text-decoration-color: #00af00\">32,896</span> │\n",
       "├─────────────────────────────────┼────────────────────────┼───────────────┤\n",
       "│ dense_1 (<span style=\"color: #0087ff; text-decoration-color: #0087ff\">Dense</span>)                 │ (<span style=\"color: #00af00; text-decoration-color: #00af00\">32</span>, <span style=\"color: #00af00; text-decoration-color: #00af00\">1</span>)                │           <span style=\"color: #00af00; text-decoration-color: #00af00\">129</span> │\n",
       "└─────────────────────────────────┴────────────────────────┴───────────────┘\n",
       "</pre>\n"
      ],
      "text/plain": [
       "┏━━━━━━━━━━━━━━━━━━━━━━━━━━━━━━━━━┳━━━━━━━━━━━━━━━━━━━━━━━━┳━━━━━━━━━━━━━━━┓\n",
       "┃\u001b[1m \u001b[0m\u001b[1mLayer (type)                   \u001b[0m\u001b[1m \u001b[0m┃\u001b[1m \u001b[0m\u001b[1mOutput Shape          \u001b[0m\u001b[1m \u001b[0m┃\u001b[1m \u001b[0m\u001b[1m      Param #\u001b[0m\u001b[1m \u001b[0m┃\n",
       "┡━━━━━━━━━━━━━━━━━━━━━━━━━━━━━━━━━╇━━━━━━━━━━━━━━━━━━━━━━━━╇━━━━━━━━━━━━━━━┩\n",
       "│ embedding_1 (\u001b[38;5;33mEmbedding\u001b[0m)         │ (\u001b[38;5;34m32\u001b[0m, \u001b[38;5;34m500\u001b[0m, \u001b[38;5;34m128\u001b[0m)         │     \u001b[38;5;34m1,280,000\u001b[0m │\n",
       "├─────────────────────────────────┼────────────────────────┼───────────────┤\n",
       "│ simple_rnn_1 (\u001b[38;5;33mSimpleRNN\u001b[0m)        │ (\u001b[38;5;34m32\u001b[0m, \u001b[38;5;34m128\u001b[0m)              │        \u001b[38;5;34m32,896\u001b[0m │\n",
       "├─────────────────────────────────┼────────────────────────┼───────────────┤\n",
       "│ dense_1 (\u001b[38;5;33mDense\u001b[0m)                 │ (\u001b[38;5;34m32\u001b[0m, \u001b[38;5;34m1\u001b[0m)                │           \u001b[38;5;34m129\u001b[0m │\n",
       "└─────────────────────────────────┴────────────────────────┴───────────────┘\n"
      ]
     },
     "metadata": {},
     "output_type": "display_data"
    },
    {
     "data": {
      "text/html": [
       "<pre style=\"white-space:pre;overflow-x:auto;line-height:normal;font-family:Menlo,'DejaVu Sans Mono',consolas,'Courier New',monospace\"><span style=\"font-weight: bold\"> Total params: </span><span style=\"color: #00af00; text-decoration-color: #00af00\">1,313,027</span> (5.01 MB)\n",
       "</pre>\n"
      ],
      "text/plain": [
       "\u001b[1m Total params: \u001b[0m\u001b[38;5;34m1,313,027\u001b[0m (5.01 MB)\n"
      ]
     },
     "metadata": {},
     "output_type": "display_data"
    },
    {
     "data": {
      "text/html": [
       "<pre style=\"white-space:pre;overflow-x:auto;line-height:normal;font-family:Menlo,'DejaVu Sans Mono',consolas,'Courier New',monospace\"><span style=\"font-weight: bold\"> Trainable params: </span><span style=\"color: #00af00; text-decoration-color: #00af00\">1,313,025</span> (5.01 MB)\n",
       "</pre>\n"
      ],
      "text/plain": [
       "\u001b[1m Trainable params: \u001b[0m\u001b[38;5;34m1,313,025\u001b[0m (5.01 MB)\n"
      ]
     },
     "metadata": {},
     "output_type": "display_data"
    },
    {
     "data": {
      "text/html": [
       "<pre style=\"white-space:pre;overflow-x:auto;line-height:normal;font-family:Menlo,'DejaVu Sans Mono',consolas,'Courier New',monospace\"><span style=\"font-weight: bold\"> Non-trainable params: </span><span style=\"color: #00af00; text-decoration-color: #00af00\">0</span> (0.00 B)\n",
       "</pre>\n"
      ],
      "text/plain": [
       "\u001b[1m Non-trainable params: \u001b[0m\u001b[38;5;34m0\u001b[0m (0.00 B)\n"
      ]
     },
     "metadata": {},
     "output_type": "display_data"
    },
    {
     "data": {
      "text/html": [
       "<pre style=\"white-space:pre;overflow-x:auto;line-height:normal;font-family:Menlo,'DejaVu Sans Mono',consolas,'Courier New',monospace\"><span style=\"font-weight: bold\"> Optimizer params: </span><span style=\"color: #00af00; text-decoration-color: #00af00\">2</span> (12.00 B)\n",
       "</pre>\n"
      ],
      "text/plain": [
       "\u001b[1m Optimizer params: \u001b[0m\u001b[38;5;34m2\u001b[0m (12.00 B)\n"
      ]
     },
     "metadata": {},
     "output_type": "display_data"
    }
   ],
   "source": [
    "# Load the pre-trained model with ReLU activation\n",
    "model = load_model('simple_rnn_imdb.h5')\n",
    "model.summary()"
   ]
  },
  {
   "cell_type": "code",
   "execution_count": 5,
   "metadata": {},
   "outputs": [
    {
     "data": {
      "text/plain": [
       "[array([[-0.40093163,  0.16177565, -0.2583621 , ..., -0.02202095,\n",
       "         -0.71616995, -0.5826704 ],\n",
       "        [-0.00325005, -0.0064506 , -0.03458159, ..., -0.03067447,\n",
       "         -0.02189318,  0.00281792],\n",
       "        [-0.09515923,  0.12435797, -0.12136575, ..., -0.05628097,\n",
       "          0.03881006,  0.00188641],\n",
       "        ...,\n",
       "        [ 0.04881245, -0.03151245,  0.0278008 , ..., -0.00237767,\n",
       "          0.05844644,  0.03504431],\n",
       "        [ 0.11126657, -0.12187808, -0.07241618, ...,  0.03006854,\n",
       "         -0.09346848,  0.04329975],\n",
       "        [ 0.08627895,  0.08219907, -0.00309124, ..., -0.1197076 ,\n",
       "          0.09104171,  0.07938173]], shape=(10000, 128), dtype=float32),\n",
       " array([[-0.02642461, -0.08396038, -0.05596683, ..., -0.0719151 ,\n",
       "         -0.15952851, -0.00361807],\n",
       "        [ 0.10400384, -0.1100044 ,  0.07991971, ...,  0.1328811 ,\n",
       "         -0.05501366, -0.07581121],\n",
       "        [-0.16202867, -0.14700258, -0.03727678, ...,  0.12302747,\n",
       "         -0.06646471, -0.02381296],\n",
       "        ...,\n",
       "        [-0.2070952 ,  0.04449407, -0.19297709, ...,  0.09929562,\n",
       "         -0.06908734, -0.09545519],\n",
       "        [-0.03247545, -0.1413363 ,  0.09484046, ...,  0.07609051,\n",
       "          0.05131453,  0.12697436],\n",
       "        [ 0.11280438, -0.08398444,  0.0622678 , ...,  0.08727144,\n",
       "         -0.01571305, -0.09373546]], shape=(128, 128), dtype=float32),\n",
       " array([[ 0.09948795,  0.10135101, -0.07361767, ...,  0.02553366,\n",
       "          0.00517295, -0.02530723],\n",
       "        [ 0.0472705 ,  0.02441852, -0.01017514, ..., -0.1350627 ,\n",
       "          0.07240583,  0.00326258],\n",
       "        [ 0.11663862, -0.02102867, -0.01385682, ..., -0.047851  ,\n",
       "          0.04753727, -0.1812612 ],\n",
       "        ...,\n",
       "        [-0.06334744, -0.02656782,  0.04994367, ...,  0.10210705,\n",
       "         -0.09332952, -0.00050357],\n",
       "        [-0.01299885, -0.14371978, -0.15408278, ..., -0.00896157,\n",
       "         -0.02498113, -0.00974268],\n",
       "        [ 0.06250302,  0.08512985, -0.00461735, ...,  0.03390726,\n",
       "          0.02275951,  0.18903445]], shape=(128, 128), dtype=float32),\n",
       " array([ 0.03821821, -0.01873475,  0.04729571, -0.04218209,  0.00438241,\n",
       "        -0.03270005, -0.04067713, -0.01848169, -0.01824663, -0.0305083 ,\n",
       "         0.02093124, -0.0096333 ,  0.00992166, -0.01915267, -0.03534085,\n",
       "        -0.02895164, -0.01798432, -0.03310861, -0.00585493, -0.01249345,\n",
       "        -0.02865408,  0.03040441,  0.00948538, -0.01913553,  0.02537841,\n",
       "        -0.01210872,  0.02473936,  0.04233666, -0.0060761 , -0.03473653,\n",
       "        -0.02598169, -0.03424594, -0.04889751,  0.0131563 ,  0.03882012,\n",
       "         0.01161577,  0.01930514,  0.04769768, -0.03418192, -0.04300145,\n",
       "         0.0337629 , -0.03317477,  0.03421668, -0.02201108, -0.03461913,\n",
       "         0.00547225, -0.03460779,  0.04965774,  0.05645709,  0.01876733,\n",
       "         0.00628022,  0.02940015, -0.03416988,  0.01456892, -0.03930742,\n",
       "        -0.02475518,  0.04874032, -0.01344546, -0.01798137, -0.02443413,\n",
       "        -0.00188085,  0.03402124,  0.02772502,  0.04008168, -0.01038648,\n",
       "        -0.02825685, -0.01177752, -0.02017744, -0.03054325,  0.00833626,\n",
       "        -0.03973661,  0.0445357 ,  0.0251795 , -0.0467052 ,  0.02359822,\n",
       "         0.00876114,  0.03737727, -0.01806283,  0.0361446 ,  0.00661193,\n",
       "        -0.05061802, -0.02863406,  0.01720724,  0.0160541 , -0.00388751,\n",
       "         0.01932501, -0.00588507,  0.01730873, -0.01979257,  0.01099757,\n",
       "         0.00996974, -0.02558401,  0.02155215, -0.0453845 ,  0.03576638,\n",
       "        -0.01341387,  0.01562646, -0.00704928,  0.02431632,  0.00121676,\n",
       "         0.02645237,  0.03378174,  0.00392348,  0.01110733, -0.02999606,\n",
       "        -0.01132208, -0.02788245, -0.03679246,  0.02834447, -0.01583958,\n",
       "        -0.00618563, -0.03672798,  0.04191078, -0.03580057, -0.01790232,\n",
       "        -0.0132901 , -0.02328554, -0.03045143,  0.03728089, -0.01827284,\n",
       "        -0.02063902, -0.0025826 ,  0.00222272,  0.02820474,  0.01795035,\n",
       "         0.04580473,  0.02470058, -0.03533068], dtype=float32),\n",
       " array([[-1.52352164e-02],\n",
       "        [ 1.03583619e-01],\n",
       "        [ 3.20842266e-02],\n",
       "        [-3.45490277e-02],\n",
       "        [ 2.48213168e-02],\n",
       "        [-9.44217220e-02],\n",
       "        [ 1.28264388e-03],\n",
       "        [-1.54461041e-01],\n",
       "        [ 2.28982046e-01],\n",
       "        [-4.90992218e-02],\n",
       "        [-4.91169319e-02],\n",
       "        [ 1.77493051e-01],\n",
       "        [ 3.83599550e-02],\n",
       "        [ 1.67299896e-01],\n",
       "        [-8.43567848e-02],\n",
       "        [ 3.59620154e-02],\n",
       "        [ 7.73808807e-02],\n",
       "        [-6.18014783e-02],\n",
       "        [ 1.12550415e-01],\n",
       "        [-1.92135096e-01],\n",
       "        [-6.22000247e-02],\n",
       "        [ 3.17064449e-02],\n",
       "        [-2.44270191e-02],\n",
       "        [ 5.32085039e-02],\n",
       "        [-1.35428384e-01],\n",
       "        [ 1.60630822e+00],\n",
       "        [ 8.66508856e-02],\n",
       "        [-1.89375043e-01],\n",
       "        [-3.87338787e-01],\n",
       "        [-1.22242108e-01],\n",
       "        [-1.79566756e-01],\n",
       "        [-1.66055039e-01],\n",
       "        [-1.51892975e-01],\n",
       "        [-1.93251237e-01],\n",
       "        [-1.62269846e-01],\n",
       "        [-7.49026090e-02],\n",
       "        [-6.16802508e-03],\n",
       "        [ 1.66481853e-01],\n",
       "        [ 5.80922514e-02],\n",
       "        [ 1.15407854e-01],\n",
       "        [ 3.63095151e-03],\n",
       "        [ 7.14308619e-02],\n",
       "        [ 8.35067779e-02],\n",
       "        [-1.10689014e-01],\n",
       "        [-1.67745471e-01],\n",
       "        [-1.38245687e-01],\n",
       "        [ 1.40723616e-01],\n",
       "        [-2.03590184e-01],\n",
       "        [ 8.48942101e-02],\n",
       "        [ 9.05888230e-02],\n",
       "        [ 9.86871868e-02],\n",
       "        [ 6.30668253e-02],\n",
       "        [-1.32834449e-01],\n",
       "        [-1.27056882e-01],\n",
       "        [-3.09906378e-02],\n",
       "        [-1.10149711e-01],\n",
       "        [ 1.88786894e-01],\n",
       "        [-4.00261506e-02],\n",
       "        [-3.85223329e-01],\n",
       "        [-9.51555595e-02],\n",
       "        [-1.42352074e-01],\n",
       "        [-1.57547683e-01],\n",
       "        [ 1.44139096e-01],\n",
       "        [ 4.00785059e-02],\n",
       "        [ 7.30323941e-02],\n",
       "        [-1.79358140e-01],\n",
       "        [-6.37873411e-02],\n",
       "        [-1.39309436e-01],\n",
       "        [ 1.28370836e-01],\n",
       "        [-3.78515422e-02],\n",
       "        [-6.47511065e-01],\n",
       "        [ 2.06957519e-01],\n",
       "        [ 5.92562407e-02],\n",
       "        [-8.45528860e-03],\n",
       "        [-3.10728755e-02],\n",
       "        [ 1.90971673e-01],\n",
       "        [-4.49617729e-02],\n",
       "        [ 2.36635469e-02],\n",
       "        [-1.08944513e-01],\n",
       "        [ 1.69653744e-02],\n",
       "        [-1.27966791e-01],\n",
       "        [-9.08806026e-02],\n",
       "        [ 7.86300153e-02],\n",
       "        [ 1.24465980e-01],\n",
       "        [-1.82357375e-02],\n",
       "        [-1.61732689e-01],\n",
       "        [-2.15151608e-02],\n",
       "        [ 2.14744121e-01],\n",
       "        [ 9.21506993e-03],\n",
       "        [-2.16049910e+00],\n",
       "        [ 8.91264230e-02],\n",
       "        [ 7.76885226e-02],\n",
       "        [ 2.42375970e-01],\n",
       "        [-2.50123143e-01],\n",
       "        [ 1.77544244e-02],\n",
       "        [ 9.99893621e-02],\n",
       "        [-1.48911476e-01],\n",
       "        [-5.54560833e-02],\n",
       "        [-1.91930100e-01],\n",
       "        [ 3.89628500e-01],\n",
       "        [-2.86922995e-02],\n",
       "        [ 2.05621403e-02],\n",
       "        [-6.90636560e-02],\n",
       "        [-6.03389516e-02],\n",
       "        [ 1.34784311e-01],\n",
       "        [-1.71907336e-01],\n",
       "        [-5.10213450e-02],\n",
       "        [-1.11850232e-01],\n",
       "        [-1.25561776e-02],\n",
       "        [-1.18309014e-01],\n",
       "        [ 1.23254038e-01],\n",
       "        [ 2.37070695e-02],\n",
       "        [ 1.12150960e-01],\n",
       "        [ 2.62980074e-01],\n",
       "        [-1.83313012e-01],\n",
       "        [ 2.20904171e-01],\n",
       "        [-4.93452325e-02],\n",
       "        [-1.54484838e-01],\n",
       "        [ 2.35471353e-02],\n",
       "        [ 9.91341472e-02],\n",
       "        [ 8.32924247e-02],\n",
       "        [ 8.03535879e-02],\n",
       "        [-4.31889556e-02],\n",
       "        [-1.95445836e-01],\n",
       "        [ 3.54550004e-01],\n",
       "        [ 6.91696554e-02],\n",
       "        [ 1.32326603e-01],\n",
       "        [-1.55173942e-01]], dtype=float32),\n",
       " array([-0.42003497], dtype=float32)]"
      ]
     },
     "execution_count": 5,
     "metadata": {},
     "output_type": "execute_result"
    }
   ],
   "source": [
    "model.get_weights()"
   ]
  },
  {
   "cell_type": "code",
   "execution_count": 6,
   "metadata": {},
   "outputs": [],
   "source": [
    "# Step 2: Helper Functions\n",
    "# Function to decode reviews\n",
    "def decode_review(encoded_review):\n",
    "    return ' '.join([reverse_word_index.get(i - 3, '?') for i in encoded_review])\n",
    "\n",
    "# Function to preprocess user input\n",
    "def preprocess_text(text):\n",
    "    words = text.lower().split()\n",
    "    encoded_review = [word_index.get(word, 2) + 3 for word in words]\n",
    "    padded_review = sequence.pad_sequences([encoded_review], maxlen=500)\n",
    "    return padded_review"
   ]
  },
  {
   "cell_type": "code",
   "execution_count": 7,
   "metadata": {},
   "outputs": [],
   "source": [
    "### Prediction  function\n",
    "\n",
    "def predict_sentiment(review):\n",
    "    preprocessed_input=preprocess_text(review)\n",
    "\n",
    "    prediction=model.predict(preprocessed_input)\n",
    "\n",
    "    sentiment = 'Positive' if prediction[0][0] > 0.5 else 'Negative'\n",
    "    \n",
    "    return sentiment, prediction[0][0]\n",
    "\n"
   ]
  },
  {
   "cell_type": "code",
   "execution_count": null,
   "metadata": {},
   "outputs": [
    {
     "name": "stdout",
     "output_type": "stream",
     "text": [
      "\u001b[1m1/1\u001b[0m \u001b[32m━━━━━━━━━━━━━━━━━━━━\u001b[0m\u001b[37m\u001b[0m \u001b[1m1s\u001b[0m 570ms/step\n",
      "Review: This movie was fantastic! The acting was great and the plot was thrilling.\n",
      "Sentiment: Negative\n",
      "Prediction Score: 0.009646299295127392\n"
     ]
    }
   ],
   "source": [
    "# Step 4: User Input and Prediction\n",
    "# Example review for prediction\n",
    "example_review = \"This movie was fantastic! The acting was great and the plot was thrilling.\"\n",
    "\n",
    "sentiment,score=predict_sentiment(example_review)\n",
    "\n",
    "print(f'Review: {example_review}')\n",
    "print(f'Sentiment: {sentiment}')\n",
    "print(f'Prediction Score: {score}')"
   ]
  }
 ],
 "metadata": {
  "kernelspec": {
   "display_name": "venv",
   "language": "python",
   "name": "python3"
  },
  "language_info": {
   "codemirror_mode": {
    "name": "ipython",
    "version": 3
   },
   "file_extension": ".py",
   "mimetype": "text/x-python",
   "name": "python",
   "nbconvert_exporter": "python",
   "pygments_lexer": "ipython3",
   "version": "3.12.3"
  }
 },
 "nbformat": 4,
 "nbformat_minor": 2
}
